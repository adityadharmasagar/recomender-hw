{
 "metadata": {
  "name": "",
  "signature": "sha256:77477e757672437a8561f541f97cf2fc8f6d5abdc69cc822d0afce78a8f2957b"
 },
 "nbformat": 3,
 "nbformat_minor": 0,
 "worksheets": [
  {
   "cells": [
    {
     "cell_type": "code",
     "collapsed": false,
     "input": [
      "import pandas as pd\n",
      "import numpy as np"
     ],
     "language": "python",
     "metadata": {},
     "outputs": [],
     "prompt_number": 2
    },
    {
     "cell_type": "code",
     "collapsed": false,
     "input": [
      "#download the class movie reviews from here:\n",
      "#https://docs.google.com/spreadsheets/d/17rCJzmWxqvAu9rkpkgt4ToccIlY4A1Ffuu1W9X3B8Ag/\n",
      "#then read that in as a pandas dataframe"
     ],
     "language": "python",
     "metadata": {},
     "outputs": [],
     "prompt_number": 3
    },
    {
     "cell_type": "code",
     "collapsed": false,
     "input": [
      "M = pd.read_csv('movies.csv', index_col='Name')"
     ],
     "language": "python",
     "metadata": {},
     "outputs": [],
     "prompt_number": 4
    },
    {
     "cell_type": "code",
     "collapsed": false,
     "input": [
      "M.head()"
     ],
     "language": "python",
     "metadata": {},
     "outputs": [
      {
       "html": [
        "<div style=\"max-height:1000px;max-width:1500px;overflow:auto;\">\n",
        "<table border=\"1\" class=\"dataframe\">\n",
        "  <thead>\n",
        "    <tr style=\"text-align: right;\">\n",
        "      <th></th>\n",
        "      <th>American Sniper</th>\n",
        "      <th>The Hunger Games: Mockingjay - Part 1</th>\n",
        "      <th>Guardians of the Galaxy</th>\n",
        "      <th>The Lego Movie</th>\n",
        "      <th>The Hobbit</th>\n",
        "      <th>Transformers</th>\n",
        "      <th>Malificent</th>\n",
        "      <th>Big Hero 6</th>\n",
        "      <th>Godzilla</th>\n",
        "      <th>Interstellar</th>\n",
        "      <th>How to Train your Dragon 2</th>\n",
        "      <th>Gone Girl</th>\n",
        "      <th>Divergent</th>\n",
        "      <th>The Fault in Our Stars</th>\n",
        "      <th>Unbroken</th>\n",
        "      <th>300: Rise of an Empire</th>\n",
        "    </tr>\n",
        "    <tr>\n",
        "      <th>Name</th>\n",
        "      <th></th>\n",
        "      <th></th>\n",
        "      <th></th>\n",
        "      <th></th>\n",
        "      <th></th>\n",
        "      <th></th>\n",
        "      <th></th>\n",
        "      <th></th>\n",
        "      <th></th>\n",
        "      <th></th>\n",
        "      <th></th>\n",
        "      <th></th>\n",
        "      <th></th>\n",
        "      <th></th>\n",
        "      <th></th>\n",
        "      <th></th>\n",
        "    </tr>\n",
        "  </thead>\n",
        "  <tbody>\n",
        "    <tr>\n",
        "      <th>Mike</th>\n",
        "      <td>NaN</td>\n",
        "      <td>NaN</td>\n",
        "      <td>  5</td>\n",
        "      <td>NaN</td>\n",
        "      <td>  4</td>\n",
        "      <td>NaN</td>\n",
        "      <td>  3</td>\n",
        "      <td>NaN</td>\n",
        "      <td>NaN</td>\n",
        "      <td>NaN</td>\n",
        "      <td>NaN</td>\n",
        "      <td>NaN</td>\n",
        "      <td>  3</td>\n",
        "      <td>NaN</td>\n",
        "      <td>NaN</td>\n",
        "      <td>  2</td>\n",
        "    </tr>\n",
        "    <tr>\n",
        "      <th>HJ SONG</th>\n",
        "      <td>NaN</td>\n",
        "      <td>  2</td>\n",
        "      <td>  3</td>\n",
        "      <td>  4</td>\n",
        "      <td>  4</td>\n",
        "      <td>  5</td>\n",
        "      <td>NaN</td>\n",
        "      <td>  4</td>\n",
        "      <td>  4</td>\n",
        "      <td>  5</td>\n",
        "      <td>  5</td>\n",
        "      <td>NaN</td>\n",
        "      <td>NaN</td>\n",
        "      <td>NaN</td>\n",
        "      <td>  5</td>\n",
        "      <td>  5</td>\n",
        "    </tr>\n",
        "    <tr>\n",
        "      <th>Ryan Hansen</th>\n",
        "      <td>NaN</td>\n",
        "      <td>  3</td>\n",
        "      <td>  4</td>\n",
        "      <td>  3</td>\n",
        "      <td>  5</td>\n",
        "      <td>  2</td>\n",
        "      <td>  3</td>\n",
        "      <td>  3</td>\n",
        "      <td>  3</td>\n",
        "      <td>NaN</td>\n",
        "      <td>  5</td>\n",
        "      <td>NaN</td>\n",
        "      <td>  3</td>\n",
        "      <td>NaN</td>\n",
        "      <td>NaN</td>\n",
        "      <td>NaN</td>\n",
        "    </tr>\n",
        "    <tr>\n",
        "      <th>Olumuyiwa Durojaiye</th>\n",
        "      <td>NaN</td>\n",
        "      <td>NaN</td>\n",
        "      <td>NaN</td>\n",
        "      <td>NaN</td>\n",
        "      <td>NaN</td>\n",
        "      <td>  5</td>\n",
        "      <td>NaN</td>\n",
        "      <td>  5</td>\n",
        "      <td>  2</td>\n",
        "      <td>NaN</td>\n",
        "      <td>  3</td>\n",
        "      <td>NaN</td>\n",
        "      <td>NaN</td>\n",
        "      <td>NaN</td>\n",
        "      <td>NaN</td>\n",
        "      <td>  2</td>\n",
        "    </tr>\n",
        "    <tr>\n",
        "      <th>Charlie</th>\n",
        "      <td>NaN</td>\n",
        "      <td>  2</td>\n",
        "      <td>  3</td>\n",
        "      <td>NaN</td>\n",
        "      <td>  3</td>\n",
        "      <td>  2</td>\n",
        "      <td>  3</td>\n",
        "      <td>NaN</td>\n",
        "      <td>  4</td>\n",
        "      <td>  5</td>\n",
        "      <td>  2</td>\n",
        "      <td>NaN</td>\n",
        "      <td>  2</td>\n",
        "      <td>  3</td>\n",
        "      <td>NaN</td>\n",
        "      <td>  2</td>\n",
        "    </tr>\n",
        "  </tbody>\n",
        "</table>\n",
        "</div>"
       ],
       "metadata": {},
       "output_type": "pyout",
       "prompt_number": 5,
       "text": [
        "                     American Sniper  The Hunger Games: Mockingjay - Part 1  \\\n",
        "Name                                                                          \n",
        "Mike                             NaN                                    NaN   \n",
        "HJ SONG                          NaN                                      2   \n",
        "Ryan Hansen                      NaN                                      3   \n",
        "Olumuyiwa Durojaiye              NaN                                    NaN   \n",
        "Charlie                          NaN                                      2   \n",
        "\n",
        "                     Guardians of the Galaxy  The Lego Movie  The Hobbit  \\\n",
        "Name                                                                       \n",
        "Mike                                       5             NaN           4   \n",
        "HJ SONG                                    3               4           4   \n",
        "Ryan Hansen                                4               3           5   \n",
        "Olumuyiwa Durojaiye                      NaN             NaN         NaN   \n",
        "Charlie                                    3             NaN           3   \n",
        "\n",
        "                     Transformers  Malificent  Big Hero 6  Godzilla  \\\n",
        "Name                                                                  \n",
        "Mike                          NaN           3         NaN       NaN   \n",
        "HJ SONG                         5         NaN           4         4   \n",
        "Ryan Hansen                     2           3           3         3   \n",
        "Olumuyiwa Durojaiye             5         NaN           5         2   \n",
        "Charlie                         2           3         NaN         4   \n",
        "\n",
        "                     Interstellar  How to Train your Dragon 2  Gone Girl  \\\n",
        "Name                                                                       \n",
        "Mike                          NaN                         NaN        NaN   \n",
        "HJ SONG                         5                           5        NaN   \n",
        "Ryan Hansen                   NaN                           5        NaN   \n",
        "Olumuyiwa Durojaiye           NaN                           3        NaN   \n",
        "Charlie                         5                           2        NaN   \n",
        "\n",
        "                     Divergent  The Fault in Our Stars  Unbroken  \\\n",
        "Name                                                               \n",
        "Mike                         3                     NaN       NaN   \n",
        "HJ SONG                    NaN                     NaN         5   \n",
        "Ryan Hansen                  3                     NaN       NaN   \n",
        "Olumuyiwa Durojaiye        NaN                     NaN       NaN   \n",
        "Charlie                      2                       3       NaN   \n",
        "\n",
        "                     300: Rise of an Empire  \n",
        "Name                                         \n",
        "Mike                                      2  \n",
        "HJ SONG                                   5  \n",
        "Ryan Hansen                             NaN  \n",
        "Olumuyiwa Durojaiye                       2  \n",
        "Charlie                                   2  "
       ]
      }
     ],
     "prompt_number": 5
    },
    {
     "cell_type": "code",
     "collapsed": false,
     "input": [
      "def pearson(s1, s2):\n",
      "    \"\"\"Take two pd.Series objects and return a pearson correlation.\"\"\"\n",
      "    s1_c = s1 - s1.mean()\n",
      "    s2_c = s2 - s2.mean()\n",
      "    return np.sum(s1_c * s2_c) / np.sqrt(np.sum(s1_c ** 2) * np.sum(s2_c ** 2))"
     ],
     "language": "python",
     "metadata": {},
     "outputs": [],
     "prompt_number": 6
    },
    {
     "cell_type": "code",
     "collapsed": false,
     "input": [
      "def get_recs(movie_name, M, num):\n",
      "\n",
      "    import numpy as np\n",
      "    reviews = []\n",
      "    for title in M.columns:\n",
      "        if title == movie_name:\n",
      "            continue\n",
      "        cor = pearson(M[movie_name], M[title])\n",
      "        if np.isnan(cor):\n",
      "            continue\n",
      "        else:\n",
      "            reviews.append((title, cor))\n",
      "    \n",
      "    reviews.sort(key=lambda tup: tup[1], reverse=True)\n",
      "    return reviews[:num]\n",
      "\n",
      "    "
     ],
     "language": "python",
     "metadata": {},
     "outputs": [],
     "prompt_number": 7
    },
    {
     "cell_type": "markdown",
     "metadata": {},
     "source": [
      "###Question 1:  What movie is most Similar to 'The fault in our stars' (60 pts)\n"
     ]
    },
    {
     "cell_type": "code",
     "collapsed": false,
     "input": [
      "recs = get_recs('The Fault in Our Stars', M, 10)"
     ],
     "language": "python",
     "metadata": {},
     "outputs": [],
     "prompt_number": 8
    },
    {
     "cell_type": "code",
     "collapsed": false,
     "input": [
      "recs[:5]"
     ],
     "language": "python",
     "metadata": {},
     "outputs": [
      {
       "metadata": {},
       "output_type": "pyout",
       "prompt_number": 9,
       "text": [
        "[('Transformers', 0.46790960017870337),\n",
        " ('The Hunger Games: Mockingjay - Part 1', 0.34566180063695268),\n",
        " ('How to Train your Dragon 2', 0.34422803195421142),\n",
        " ('Godzilla', 0.28430343956378823),\n",
        " ('Malificent', 0.27950849718747378)]"
       ]
      }
     ],
     "prompt_number": 9
    },
    {
     "cell_type": "markdown",
     "metadata": {},
     "source": [
      "###Answer 1: Transformer is the most similar to 'The fault in our stars' from our class reviews"
     ]
    },
    {
     "cell_type": "markdown",
     "metadata": {},
     "source": [
      "###Question 2:  Which movie(s) would you most like to see, based on your classmates experience? (40 pts)"
     ]
    },
    {
     "cell_type": "code",
     "collapsed": false,
     "input": [
      "#the movies I've seen\n",
      "my_ratings = M.ix['Aditya Dharmasagar'].dropna()\n",
      "#the movie I've rated the highest\n",
      "my_ratings.sort(ascending=False)"
     ],
     "language": "python",
     "metadata": {},
     "outputs": [],
     "prompt_number": 10
    },
    {
     "cell_type": "code",
     "collapsed": false,
     "input": [
      "my_ratings"
     ],
     "language": "python",
     "metadata": {},
     "outputs": [
      {
       "metadata": {},
       "output_type": "pyout",
       "prompt_number": 11,
       "text": [
        "300: Rise of an Empire        5\n",
        "Gone Girl                     5\n",
        "How to Train your Dragon 2    5\n",
        "Interstellar                  5\n",
        "The Hobbit                    5\n",
        "American Sniper               5\n",
        "The Fault in Our Stars        4\n",
        "Divergent                     4\n",
        "Godzilla                      4\n",
        "Malificent                    4\n",
        "Transformers                  4\n",
        "The Lego Movie                4\n",
        "Name: Aditya Dharmasagar, dtype: float64"
       ]
      }
     ],
     "prompt_number": 11
    },
    {
     "cell_type": "markdown",
     "metadata": {},
     "source": [
      "####So I watched 12 moviews out of Mike's list .I will use the recommend to check that what movie are the most similar to 3 of all the movies I have watched'300: Rise of an Empire', 'Interstellar' and 'Godzilla'"
     ]
    },
    {
     "cell_type": "code",
     "collapsed": false,
     "input": [
      "#300: Rise of an Empire\n",
      "recs = get_recs('300: Rise of an Empire', M, 10)\n",
      "recs[:5]"
     ],
     "language": "python",
     "metadata": {},
     "outputs": [
      {
       "metadata": {},
       "output_type": "pyout",
       "prompt_number": 12,
       "text": [
        "[('How to Train your Dragon 2', 0.54385771314992826),\n",
        " ('American Sniper', 0.38159982979711693),\n",
        " ('The Hobbit', 0.3326793387126884),\n",
        " ('Divergent', 0.28924842256576749),\n",
        " ('The Fault in Our Stars', 0.19512313566832112)]"
       ]
      }
     ],
     "prompt_number": 12
    },
    {
     "cell_type": "markdown",
     "metadata": {},
     "source": [
      "####So 'How to Train your Dragon 2' is similar to '300: Rise of an Empire'"
     ]
    },
    {
     "cell_type": "code",
     "collapsed": false,
     "input": [
      "#Interstellar\n",
      "recs = get_recs('Interstellar', M, 10)\n",
      "recs[:5]"
     ],
     "language": "python",
     "metadata": {},
     "outputs": [
      {
       "metadata": {},
       "output_type": "pyout",
       "prompt_number": 13,
       "text": [
        "[('The Lego Movie', 0.47750171679937559),\n",
        " ('The Hobbit', 0.3692307692307692),\n",
        " ('How to Train your Dragon 2', 0.29964164208559746),\n",
        " ('Malificent', 0.27761261601152887),\n",
        " ('Unbroken', 0.10741723110591496)]"
       ]
      }
     ],
     "prompt_number": 13
    },
    {
     "cell_type": "markdown",
     "metadata": {},
     "source": [
      "####And 'The Lego Movie' is similar to 'How to Train your Dragon 2' "
     ]
    },
    {
     "cell_type": "code",
     "collapsed": false,
     "input": [
      "#Godzilla\n",
      "recs = get_recs('Godzilla', M, 10)\n",
      "recs[:5]"
     ],
     "language": "python",
     "metadata": {},
     "outputs": [
      {
       "metadata": {},
       "output_type": "pyout",
       "prompt_number": 14,
       "text": [
        "[('Transformers', 0.34430856378657526),\n",
        " ('Guardians of the Galaxy', 0.31750031750047625),\n",
        " ('The Fault in Our Stars', 0.28430343956378823),\n",
        " ('The Lego Movie', 0.27004681557593291),\n",
        " ('The Hunger Games: Mockingjay - Part 1', 0.25420369836940127)]"
       ]
      }
     ],
     "prompt_number": 14
    },
    {
     "cell_type": "markdown",
     "metadata": {},
     "source": [
      "####And 'Transformers' is the most similar to 'Godzilla'"
     ]
    },
    {
     "cell_type": "code",
     "collapsed": false,
     "input": [
      "not_rated = M.ix['Aditya Dharmasagar']\n",
      "not_rated.sort()\n",
      "for i in range(0, not_rated.count(), 1):\n",
      "    not_rated.drop(not_rated.index[0], inplace=True)"
     ],
     "language": "python",
     "metadata": {},
     "outputs": [],
     "prompt_number": 15
    },
    {
     "cell_type": "code",
     "collapsed": false,
     "input": [
      "not_rated"
     ],
     "language": "python",
     "metadata": {},
     "outputs": [
      {
       "metadata": {},
       "output_type": "pyout",
       "prompt_number": 16,
       "text": [
        "The Hunger Games: Mockingjay - Part 1   NaN\n",
        "Guardians of the Galaxy                 NaN\n",
        "Big Hero 6                              NaN\n",
        "Unbroken                                NaN\n",
        "Name: Aditya Dharmasagar, dtype: float64"
       ]
      }
     ],
     "prompt_number": 16
    },
    {
     "cell_type": "code",
     "collapsed": false,
     "input": [
      "#pearson correlation coefficient between (Aditya Dharmasagar and all other classmates)\n",
      "print \"Pearson Correlation coefficient of :\"\n",
      "a= []\n",
      "for i in range(0, 23, 1):\n",
      "    cor=pearson(M.ix[23], M.ix[i])\n",
      "    print \"(\" + M.index[23] + \" , \" + M.index[i] + \") :\", cor\n",
      "    a.append(cor)"
     ],
     "language": "python",
     "metadata": {},
     "outputs": [
      {
       "output_type": "stream",
       "stream": "stdout",
       "text": [
        "Pearson Correlation coefficient of :\n",
        "(Aditya Dharmasagar , Mike) : 0.0\n",
        "(Aditya Dharmasagar , HJ SONG) : 0.169079166182\n",
        "(Aditya Dharmasagar , Ryan Hansen) : 0.617534781489\n",
        "(Aditya Dharmasagar , Olumuyiwa Durojaiye) : -0.190346746907\n",
        "(Aditya Dharmasagar , Charlie) : 0.0760856247819\n",
        "(Aditya Dharmasagar , Sina Tuy) : 0.39942979301\n",
        "(Aditya Dharmasagar , Pavithra Shetty) : -0.0435194139889\n",
        "(Aditya Dharmasagar , Sara Collins) : 0.235702260396\n",
        "(Aditya Dharmasagar , Jonathan Doll) : 0.345032779671\n",
        "(Aditya Dharmasagar , saikiran reddy) : -0.234728950276\n",
        "(Aditya Dharmasagar , Aishwarya reddy) : 0.133630620956\n",
        "(Aditya Dharmasagar , Brant Mullinix) : 0.174077655956\n",
        "(Aditya Dharmasagar , Sai Sampath) : 0.133630620956\n",
        "(Aditya Dharmasagar , Suyendra) : 0.586063548607\n",
        "(Aditya Dharmasagar , Sai Yallapragada) : 0.57735026919\n",
        "(Aditya Dharmasagar , Akhilesh) : 0.355528564568\n",
        "(Aditya Dharmasagar , Sundar Prasad) : -0.235702260396\n",
        "(Aditya Dharmasagar , Evan Piercy) : -0.210818510678\n",
        "(Aditya Dharmasagar , Jessica Fong) : 0.105409255339\n",
        "(Aditya Dharmasagar , Onsiri Tapsarn) : nan\n",
        "(Aditya Dharmasagar , Anirudh Thota) : 0.107582870728\n",
        "(Aditya Dharmasagar , Greg Werner) : 0.36514837167\n",
        "(Aditya Dharmasagar , Violeta Lee Fay) : -0.555555555556\n"
       ]
      }
     ],
     "prompt_number": 17
    },
    {
     "cell_type": "markdown",
     "metadata": {},
     "source": [
      "###### Takes two parameters 'x' and 'a'.Where 'x' a list of rates given by classmates. 'a' is a array that has corresponding pearson correlation coefficientreturn (weights for the given rates).    "
     ]
    },
    {
     "cell_type": "code",
     "collapsed": false,
     "input": [
      "def pred_rate(x, a):\n",
      "    \n",
      "    j=0\n",
      "    k=0\n",
      "    for i in range(0, 23, 1):   # as there are 23 people who reviewd \n",
      "        if x.irow(i)>0 and a[i]>0: \n",
      "            j= j+(a[i]*x.irow(i))\n",
      "            k= k+a[i]\n",
      "        else:\n",
      "            continue\n",
      "    return j/k"
     ],
     "language": "python",
     "metadata": {},
     "outputs": [],
     "prompt_number": 22
    },
    {
     "cell_type": "code",
     "collapsed": false,
     "input": [
      "print \"My ratings for the movies that I have not seen would be\"\n",
      "for i in range(0, 4, 1): # as there are 4 movies i didn't watch\n",
      "    x=M[not_rated.index[i]]\n",
      "    rate=pred_rate(x, a)\n",
      "    print not_rated.index[i] +\": \", rate.round(1)"
     ],
     "language": "python",
     "metadata": {},
     "outputs": [
      {
       "output_type": "stream",
       "stream": "stdout",
       "text": [
        "My ratings for the movies that I have not seen would be\n",
        "The Hunger Games: Mockingjay - Part 1:  3.0\n",
        "Guardians of the Galaxy:  3.6\n",
        "Big Hero 6:  3.3\n",
        "Unbroken:  2.7\n"
       ]
      }
     ],
     "prompt_number": 23
    },
    {
     "cell_type": "code",
     "collapsed": false,
     "input": [],
     "language": "python",
     "metadata": {},
     "outputs": [],
     "prompt_number": 19
    },
    {
     "cell_type": "code",
     "collapsed": false,
     "input": [],
     "language": "python",
     "metadata": {},
     "outputs": []
    }
   ],
   "metadata": {}
  }
 ]
}